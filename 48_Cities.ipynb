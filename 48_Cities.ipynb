{
 "cells": [
  {
   "cell_type": "markdown",
   "metadata": {},
   "source": [
    "# 48-City Traveling Salesman Problem\n",
    "\n",
    "Given a list of cities and the distances between each pair of cities, what is the shortest possible route that visits each city exactly once and returns to the origin city?\n",
    "\n",
    "## Look at our Data\n",
    "\n",
    "To get our bearings, here is a map of the cities that we are working with.  First we load in information about our data set (latitude and longitude coordinates) and visualize our data set that we're working with."
   ]
  },
  {
   "cell_type": "code",
   "execution_count": null,
   "metadata": {},
   "outputs": [],
   "source": [
    "# Load in complete US map with state boundaries\n",
    "from bokeh.sampledata import us_states\n",
    "us_states = us_states.data.copy()\n",
    "del us_states[\"HI\"]\n",
    "del us_states[\"AK\"]\n",
    "state_xs = [us_states[code][\"lons\"] for code in us_states]\n",
    "state_ys = [us_states[code][\"lats\"] for code in us_states]\n",
    "\n",
    "# Read in our cities lat/long coordinates from a file\n",
    "N = 48\n",
    "with open('TSP_48_capitals.txt', \"r\") as myfile:\n",
    "    city_text = myfile.readlines()\n",
    "    myfile.close()\n",
    "cities = [',']*N\n",
    "states = [',']*N\n",
    "lats=[]\n",
    "longs=[]\n",
    "for i in city_text:\n",
    "    index, state, city,lat,lon = i.split(',')\n",
    "    cities[int(index)] = city.rstrip()\n",
    "    states[int(index)] = state\n",
    "    lats.append(float(lat))\n",
    "    longs.append(float(lon))\n",
    "\n",
    "# initialize figure\n",
    "from bokeh.plotting import figure, show\n",
    "from bokeh.io import output_notebook\n",
    "output_notebook()\n",
    "p = figure(title=\"Find shortest route that visits each city\", \n",
    "           toolbar_location=\"left\", plot_width=550, plot_height=350)\n",
    "\n",
    "# Draw state lines\n",
    "p.patches(state_xs, state_ys, fill_alpha=0.0,\n",
    "    line_color='blue', line_width=1.5)\n",
    "\n",
    "# Place markers for each city\n",
    "p.circle(longs, lats, size=10, color='red', alpha=1)\n",
    "\n",
    "# Display the image\n",
    "show(p)"
   ]
  },
  {
   "cell_type": "markdown",
   "metadata": {},
   "source": [
    "## Setting up our Graph\n",
    "\n",
    "First, we set up our problem as a graph.  Our nodes are the cities our salesman needs to visit, and our edges are the roads between any pair of cities."
   ]
  },
  {
   "cell_type": "code",
   "execution_count": null,
   "metadata": {},
   "outputs": [],
   "source": [
    "# Open the input file containing inter-city distances\n",
    "import re\n",
    "fn = \"TSP_48_state_capitals.txt\"\n",
    "\n",
    "with open(fn, \"r\") as myfile:\n",
    "    distance_text = myfile.readlines()\n",
    "\n",
    "# Extract the distances from the input file\n",
    "D = [[0 for z in range(N)] for y in range(N)]\n",
    "for i in distance_text:\n",
    "    if re.search(\"^between\", i):\n",
    "        m = re.search(\"^between_(\\d+)_(\\d+) = (\\d+)\", i)\n",
    "        citya = int(m.group(1))\n",
    "        cityb = int(m.group(2))\n",
    "        D[citya][cityb] = D[cityb][citya] = int(m.group(3))\n",
    "    \n",
    "print(\"Read in data for\", len(D),\"cities.\")"
   ]
  },
  {
   "cell_type": "markdown",
   "metadata": {},
   "source": [
    "## Setting our Tunable Parameters\n",
    "\n",
    "To start, there are a few parameters that we want to set.\n",
    "\n",
    "$\\textbf{gamma}$ is the Lagrange parameter.  This controls which is more important:  satisfying our constraints or finding the shortest distance.  For this problem, it is crucial that we visit every city on our route, so we should set this parameter to be larger than the greatest distance between two cities.\n",
    "\n",
    "$\\textbf{chainstrength}$ tells the embedding function how strongly to tie together chains of physical qubits to make one logical qubit.  This should be larger than any other values in your QUBO.\n",
    "\n",
    "$\\textbf{numruns}$ tells the system how many times to run our problem.  Due to the probabilistic nature of the D-Wave QPU, we should run the problem many times and look at the best solutions found."
   ]
  },
  {
   "cell_type": "code",
   "execution_count": null,
   "metadata": {},
   "outputs": [],
   "source": [
    "# Tunable parameters. \n",
    "gamma = 8500\n",
    "chainstrength = 4500\n",
    "numruns = 100\n",
    "print(\"Tunable parameters: \\n\\tGamma: \\t\\t\\t\",gamma,\"\\n\\tChain Strength: \\t\",chainstrength,\"\\n\\tNumber of runs: \\t\",numruns)"
   ]
  },
  {
   "cell_type": "markdown",
   "metadata": {},
   "source": [
    "## Building our QUBO\n",
    "\n",
    "We start by creating an empty Q matrix."
   ]
  },
  {
   "cell_type": "code",
   "execution_count": null,
   "metadata": {},
   "outputs": [],
   "source": [
    "Q = {}\n",
    "for i in range(N*N):\n",
    "    for j in range(N*N):\n",
    "        Q[(i,j)] = 0\n",
    "\n",
    "print(\"Q matrix with\", len(Q), \"entries created.\")"
   ]
  },
  {
   "cell_type": "markdown",
   "metadata": {},
   "source": [
    "Since our variables have two indices, we'll provide a helper function help us assign $x_{a,b}$ to a specific row/column index in our Q matrix."
   ]
  },
  {
   "cell_type": "code",
   "execution_count": null,
   "metadata": {},
   "outputs": [],
   "source": [
    "# Function to compute index in Q for variable x_(a,b)\n",
    "def x(a, b):\n",
    "    return (a)*N+(b)"
   ]
  },
  {
   "cell_type": "markdown",
   "metadata": {},
   "source": [
    "### Row Constraints\n",
    "\n",
    "The next block sets the constraint that each row has exactly one 1 in our permutation matrix.\n",
    "\n",
    "For row 1, this constraint looks like $$\\gamma \\left(-1 + \\sum_{j=1}^{48} x_{1,j} \\right).$$  When we simplify, we get $$\\sum_{j=1}^{48} \\left(-\\gamma x_{1,j}\\right) + \\sum_{j=1}^{48}\\sum_{k=j+1}^{48} \\left(2\\gamma x_{1,j}x_{1,k}\\right).$$"
   ]
  },
  {
   "cell_type": "code",
   "execution_count": null,
   "metadata": {},
   "outputs": [],
   "source": [
    "for v in range(N):\n",
    "    for j in range(N):\n",
    "        Q[(x(v,j), x(v,j))] += -1*gamma\n",
    "        for k in range(j+1, N):\n",
    "            Q[(x(v,j), x(v,k))] += 2*gamma\n",
    "            \n",
    "print(\"Added\",N,\"row constraints to Q matrix.\")"
   ]
  },
  {
   "cell_type": "markdown",
   "metadata": {},
   "source": [
    "### Column Constraints\n",
    "\n",
    "The next block sets the constraint that each column has exactly one 1 in our permutation matrix.\n",
    "\n",
    "For column 1, this constraint looks like $$\\gamma \\left(-1 + \\sum_{v=1}^{48} x_{v,1} \\right).$$  When we simplify, we get $$\\sum_{v=1}^{48} \\left(-\\gamma x_{v,1}\\right) + \\sum_{v=1}^{48}\\sum_{w=v+1}^{48} \\left(2 \\gamma x_{v,1}x_{w,1}\\right).$$"
   ]
  },
  {
   "cell_type": "code",
   "execution_count": null,
   "metadata": {},
   "outputs": [],
   "source": [
    "for j in range(N):\n",
    "    for v in range(N):\n",
    "        Q[(x(v,j), x(v,j))] += -1*gamma\n",
    "        for w in range(v+1,N):\n",
    "            Q[(x(v,j), x(w,j))] += 2*gamma\n",
    "            \n",
    "print(\"Added\",N,\"column constraints to Q matrix.\")"
   ]
  },
  {
   "cell_type": "markdown",
   "metadata": {},
   "source": [
    "### Objective Function\n",
    "\n",
    "Our objective is to minimize the distanced travelled.  \n",
    "\n",
    "The distance we travel from city $u$ to city $v$ in stops $2$ and $3$ is $D(u,v)x_{u,2}x_{v,3}$. This adds $D(u,v)$ to our total distance if we visit city $u$ in stop 2 and city $v$ in stop 3, and adds 0 to our total distance otherwise.\n",
    "\n",
    "So, for every pair of cities $u$ and $v$, we add $\\sum_{j=1}^{48} D(u,v)x_{u,j}x_{v,j+1}$ to add the distance travelled from $u$ to $v$ (directly) in our route.\n",
    "\n",
    "We need to add this for every choice of $u$ and $v$ (and in both directions)."
   ]
  },
  {
   "cell_type": "code",
   "execution_count": null,
   "metadata": {},
   "outputs": [],
   "source": [
    "for u in range(N):\n",
    "    for v in range(N):\n",
    "        if u!=v:\n",
    "            for j in range(N):\n",
    "                Q[(x(u,j), x(v,(j+1)%N))] += D[u][v]\n",
    "                \n",
    "print(\"Objective function added.\")"
   ]
  },
  {
   "cell_type": "markdown",
   "metadata": {},
   "source": [
    "## Running QBSolv Classically\n",
    "\n",
    "Qbsolv is a problem decomposition tool that can either run offline (classically) or in a hybrid manner (classical-QPU combination).  Qbsolv is based off of the paper \"A Multilevel Algorithm for Large Unconstrained Binary Quadratic Optimization\", Wang, Lu, Glover, and Hao (2012).\n",
    "\n",
    "First we will run our problem with QBSolv classically."
   ]
  },
  {
   "cell_type": "code",
   "execution_count": null,
   "metadata": {},
   "outputs": [],
   "source": [
    "import time\n",
    "from dwave_qbsolv import QBSolv\n",
    "\n",
    "start = time.time()\n",
    "resp = QBSolv().sample_qubo(Q)\n",
    "end = time.time()\n",
    "time_CPU = end - start\n",
    "\n",
    "print(\"QBSolv (offline) sampling complete using\",time_CPU,\"seconds.\")"
   ]
  },
  {
   "cell_type": "markdown",
   "metadata": {},
   "source": [
    "### Understanding the Results\n",
    "\n",
    "Once we run QBSolv, we need to collect and report back the best answer found.  Here we list off the lowest energy solution found and the total mileage required for this route. If you wish to see the cities in order of the route, uncomment out the code at the end of the next cell block."
   ]
  },
  {
   "cell_type": "code",
   "execution_count": null,
   "metadata": {},
   "outputs": [],
   "source": [
    "# First solution is the lowest energy solution found\n",
    "sample = next(iter(resp))\n",
    "\n",
    "# Display energy for best solution found\n",
    "print('Energy: ', next(iter(resp.data())).energy)\n",
    "\n",
    "# Print route for solution found\n",
    "route = [-1]*N\n",
    "for node in sample:\n",
    "    if sample[node]>0:\n",
    "        j = node%N\n",
    "        v = (node-j)/N\n",
    "        if route[j]!=-1:\n",
    "            print('Stop '+str(i)+' used more than once.\\n')\n",
    "        route[j] = int(v)\n",
    "        \n",
    "# Compute and display total mileage\n",
    "mileage = 0\n",
    "for i in range(N):\n",
    "    mileage+=D[route[i]][route[(i+1)%N]]\n",
    "mileage_CPU = mileage\n",
    "print('Mileage: ', mileage_CPU)\n",
    "        \n",
    "##--- Uncomment below to print out route ---##\n",
    "# print('\\nRoute:\\n')\n",
    "# for i in range(N):\n",
    "#     if route[i]!=-1:\n",
    "#         print(str(i) + ':  ' +cities[route[i]]+ ',' + states[route[i]] + '\\n')  \n",
    "#     else:\n",
    "#         print(str(i) + ':  No city assigned.\\n')"
   ]
  },
  {
   "cell_type": "markdown",
   "metadata": {},
   "source": [
    "### Checking Our Answer\n",
    "\n",
    "Is this answer valid?  Here we provide a few checks.\n",
    "\n",
    "First, if every city appears exactly once in our list, then our route list will consist of the numbers $0, 1, 2, \\ldots , N-1$ in some order, which add up to $N(N-1)/2$.  If this sum is not correct, our route is invalid.\n",
    "\n",
    "Second, we check to see if every stop has a city assigned.  If not, we print a message to the user to make them aware.\n",
    "\n",
    "An additional check that you might want to implement would check if any city is assigned to more than one stop."
   ]
  },
  {
   "cell_type": "code",
   "execution_count": null,
   "metadata": {},
   "outputs": [],
   "source": [
    "flag = 0\n",
    "\n",
    "if sum(route)!=N*(N-1)/2:\n",
    "    flag = 1\n",
    "    print('Route invalid.\\n')\n",
    "\n",
    "for i in range(N):\n",
    "    if route[i]==-1:\n",
    "        flag = 1\n",
    "        print('Stop '+str(i)+' has no city assigned.')\n",
    "        \n",
    "if flag==0:\n",
    "    print(\"Route valid.\")"
   ]
  },
  {
   "cell_type": "markdown",
   "metadata": {},
   "source": [
    "## Running QBSolv with the QPU\n",
    "\n",
    "Next we will run our problem using QBSolv with the QPU.\n",
    "\n",
    "Because the QPU has a fixed number of qubits, we need to limit the size of our subproblems so that each subproblem can be embedded onto the chip.  The largest complete graph that can be embedded on the chip has a little over 60 nodes, so we will limit our subproblem size to 60.\n",
    "\n",
    "We will compare using `EmbeddingComposite` (embed each subproblem on the chip as its needed) versus `FixedEmbeddingComposite` (precompute an embedding of a complete graph of 60 nodes on the chip for reuse for every subproblem) to illustrate two different approachs to running this problem.\n",
    "\n",
    "### EmbeddingComposite"
   ]
  },
  {
   "cell_type": "code",
   "execution_count": null,
   "metadata": {},
   "outputs": [],
   "source": [
    "from dwave.system.composites import EmbeddingComposite\n",
    "from dwave.system.samplers import DWaveSampler\n",
    "\n",
    "sampler = DWaveSampler(solver={'qpu': True})  # Some accounts need to replace this line with the next:\n",
    "# sampler = EmbeddingComposite(DWaveSampler(token = 'my_token', solver=dict(name='solver_name')))\n",
    "\n",
    "print(\"Connected to QPU.\")"
   ]
  },
  {
   "cell_type": "markdown",
   "metadata": {},
   "source": [
    "In the next cell we will call QBSolv to sample our QUBO.  We will use the following QBSolv parameters.\n",
    "    -  solver_limit:  Size of the subproblems.\n",
    "    -  timeout:  Limits the amount of time that QBSolv can run.\n",
    "    -  num_repeats:  Number of times the QBSolv algorithm will re-partition the problem.\n",
    "    \n",
    "We will use the following QPU parameters.\n",
    "    -  num_reads:  Number of samples we wish to obtain for each subproblem from the QPU.\n",
    "    -  chain_strength:  The chain strength to use for our embedding.\n",
    "    \n",
    "You may get an error that no embedding was found.  This means that our heuristic embedding algorithm was not able to quickly find an embedding for a subproblem, and you need to run the cell again."
   ]
  },
  {
   "cell_type": "code",
   "execution_count": null,
   "metadata": {},
   "outputs": [],
   "source": [
    "start = time.time()\n",
    "resp = QBSolv().sample_qubo(Q, solver=EmbeddingComposite(sampler), solver_limit=60, timeout=30, num_repeats=1, num_reads=numruns, chain_strength=chainstrength)\n",
    "end = time.time()\n",
    "time_QPU = end-start\n",
    "\n",
    "print(time_QPU,\"seconds of wall-clock time.\")"
   ]
  },
  {
   "cell_type": "markdown",
   "metadata": {},
   "source": [
    "Let's look at our top answer.  We will print out the mileage corresponding to the lowest energy solution found, as well as an error-message if the route is invalid."
   ]
  },
  {
   "cell_type": "code",
   "execution_count": null,
   "metadata": {},
   "outputs": [],
   "source": [
    "# First solution is the lowest energy solution found\n",
    "sample = next(iter(resp))\n",
    "\n",
    "# Display energy for best solution found\n",
    "print('Energy: ', next(iter(resp.data())).energy)\n",
    "\n",
    "# Print route for solution found\n",
    "route = [-1]*N\n",
    "for node in sample:\n",
    "    if sample[node]>0:\n",
    "        j = node%N\n",
    "        v = (node-j)/N\n",
    "        route[j] = int(v)   \n",
    "        \n",
    "# Compute and display total mileage\n",
    "mileage = 0\n",
    "for i in range(N):\n",
    "    mileage+=D[route[i]][route[(i+1)%N]]\n",
    "mileage_QPU = mileage\n",
    "print('Mileage: ', mileage_QPU)\n",
    "\n",
    "if sum(route)!=N*(N-1)/2:\n",
    "    print('Route invalid.\\n')\n",
    "\n",
    "for i in range(N):\n",
    "    if route[i]==-1:\n",
    "        print('Stop '+str(i)+' has no city assigned.')"
   ]
  },
  {
   "cell_type": "markdown",
   "metadata": {},
   "source": [
    "### FixedEmbeddingComposite\n",
    "\n",
    "Now we'll run QBSolv with the QPU using `FixedEmbeddingComposite`.  This will ensure that we never have embedding issues.\n",
    "\n",
    "Our first step is to pre-compute an embedding for a complete graph on 60 nodes onto the chip topology."
   ]
  },
  {
   "cell_type": "code",
   "execution_count": null,
   "metadata": {
    "scrolled": true
   },
   "outputs": [],
   "source": [
    "import networkx as nx\n",
    "import minorminer\n",
    "\n",
    "G = nx.complete_graph(60)\n",
    "embedding = minorminer.find_embedding(G.edges, sampler.edgelist)\n",
    "print(\"Embedding found.\")"
   ]
  },
  {
   "cell_type": "markdown",
   "metadata": {},
   "source": [
    "Now that we have computed our embedding, we pass our sampler (the QPU) and our embedding together into  `FixedEmbeddingComposite`.  We will use the same parameters as in the previous QBSolv `sample_qubo` call."
   ]
  },
  {
   "cell_type": "code",
   "execution_count": null,
   "metadata": {
    "scrolled": false
   },
   "outputs": [],
   "source": [
    "from dwave.system.composites import FixedEmbeddingComposite\n",
    "\n",
    "start = time.time()\n",
    "resp = QBSolv().sample_qubo(Q, solver=FixedEmbeddingComposite(sampler, embedding), solver_limit=60, timeout=30, num_repeats=1, num_reads=numruns, chain_strength=chainstrength)\n",
    "end = time.time()\n",
    "time_QPU_Fixed = end-start\n",
    "\n",
    "print(time_QPU_Fixed,\"seconds of wall-clock time.\")"
   ]
  },
  {
   "cell_type": "markdown",
   "metadata": {},
   "source": [
    "Let's look at our top answer.  We will print out the mileage corresponding to the lowest energy solution found, as well as an error-message if the route is invalid."
   ]
  },
  {
   "cell_type": "code",
   "execution_count": null,
   "metadata": {},
   "outputs": [],
   "source": [
    "# First solution is the lowest energy solution found\n",
    "sample = next(iter(resp))\n",
    "\n",
    "# Display energy for best solution found\n",
    "print('Energy: ', next(iter(resp.data())).energy)\n",
    "\n",
    "# Print route for solution found\n",
    "route = [-1]*N\n",
    "for node in sample:\n",
    "    if sample[node]>0:\n",
    "        j = node%N\n",
    "        v = (node-j)/N\n",
    "        route[j] = int(v)   \n",
    "        \n",
    "# Compute and display total mileage\n",
    "mileage = 0\n",
    "for i in range(N):\n",
    "    mileage+=D[route[i]][route[(i+1)%N]]\n",
    "mileage_QPU_Fixed = mileage\n",
    "print('Mileage: ', mileage_QPU_Fixed)\n",
    "\n",
    "if sum(route)!=N*(N-1)/2:\n",
    "    print('Route invalid.\\n')\n",
    "\n",
    "for i in range(N):\n",
    "    if route[i]==-1:\n",
    "        print('Stop '+str(i)+' has no city assigned.')"
   ]
  },
  {
   "cell_type": "markdown",
   "metadata": {},
   "source": [
    "## Visualization\n",
    "\n",
    "This last block visualizes the best route found using `FixedEmbeddingComposite`.  How does it look?"
   ]
  },
  {
   "cell_type": "code",
   "execution_count": null,
   "metadata": {},
   "outputs": [],
   "source": [
    "import matplotlib.pyplot as plt\n",
    "%matplotlib inline\n",
    "\n",
    "Path = nx.Graph()\n",
    "coord={}\n",
    "coord[route[0]]=(longs[route[0]],lats[route[0]])\n",
    "Path.add_node(cities[route[0]],pos=coord[route[0]],label=cities[route[0]])\n",
    "\n",
    "for i in range(N-1):\n",
    "    e=(cities[route[i]],cities[route[i+1]])\n",
    "    Path.add_edge(*e)\n",
    "    coord[route[i+1]]=(longs[route[i+1]],lats[route[i+1]])\n",
    "    Path.add_node(cities[route[i+1]],pos=coord[route[i+1]],label=cities[route[i+1]])\n",
    "\n",
    "e=(cities[route[N-1]],cities[route[0]])\n",
    "Path.add_edge(*e)\n",
    "    \n",
    "fig, ax = plt.subplots(figsize=(120,60))\n",
    "margin=0.15\n",
    "fig.subplots_adjust(margin, margin, 1.-margin, 1.-margin)\n",
    "ax.axis('equal')\n",
    "nx.draw(Path, nx.get_node_attributes(Path, 'pos'), with_labels=True, width=10, edge_color='b', node_size=200,font_size=72,font_weight='bold', ax=ax)\n",
    "plt.show() "
   ]
  },
  {
   "cell_type": "markdown",
   "metadata": {},
   "source": [
    "## Summary\n",
    "\n",
    "To summarize our results using QBSolv classically, with `EmbeddingComposite`, and with `FixedEmbeddingComposite`, we provide a table of the results and wall-clock run times.  Remember that you may want to adjust the tunable parameters `gamma`, `chainstrength`, and `numruns` above to improve performance."
   ]
  },
  {
   "cell_type": "code",
   "execution_count": null,
   "metadata": {},
   "outputs": [],
   "source": [
    "print(\"QBSolv \\t\\t\\t| Mileage \\t| Run Time (s)\")\n",
    "print(\"--------------------------------------------------------------------\")\n",
    "print(\"Classical \\t\\t| \",mileage_CPU,\"\\t| \",time_CPU)\n",
    "print(\"EmbeddingComposite \\t| \",mileage_QPU,\"\\t| \",time_QPU)\n",
    "print(\"FixedEmbeddingComposite | \",mileage_QPU_Fixed,\"\\t| \",time_QPU_Fixed)"
   ]
  },
  {
   "cell_type": "code",
   "execution_count": null,
   "metadata": {},
   "outputs": [],
   "source": []
  }
 ],
 "metadata": {
  "kernelspec": {
   "display_name": "Python 3",
   "language": "python",
   "name": "python3"
  },
  "language_info": {
   "codemirror_mode": {
    "name": "ipython",
    "version": 3
   },
   "file_extension": ".py",
   "mimetype": "text/x-python",
   "name": "python",
   "nbconvert_exporter": "python",
   "pygments_lexer": "ipython3",
   "version": "3.6.6"
  },
  "toc": {
   "base_numbering": 1,
   "nav_menu": {},
   "number_sections": true,
   "sideBar": true,
   "skip_h1_title": false,
   "title_cell": "Table of Contents",
   "title_sidebar": "Contents",
   "toc_cell": false,
   "toc_position": {},
   "toc_section_display": true,
   "toc_window_display": false
  }
 },
 "nbformat": 4,
 "nbformat_minor": 2
}
